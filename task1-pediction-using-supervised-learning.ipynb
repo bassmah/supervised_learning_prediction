{
 "cells": [
  {
   "cell_type": "code",
   "execution_count": null,
   "id": "54f2d3ce",
   "metadata": {
    "papermill": {
     "duration": 0.005734,
     "end_time": "2022-10-18T19:41:37.916404",
     "exception": false,
     "start_time": "2022-10-18T19:41:37.910670",
     "status": "completed"
    },
    "tags": []
   },
   "outputs": [],
   "source": []
  },
  {
   "cell_type": "code",
   "execution_count": 1,
   "id": "29631b7d",
   "metadata": {
    "_cell_guid": "b1076dfc-b9ad-4769-8c92-a6c4dae69d19",
    "_uuid": "8f2839f25d086af736a60e9eeb907d3b93b6e0e5",
    "execution": {
     "iopub.execute_input": "2022-10-18T19:41:37.927002Z",
     "iopub.status.busy": "2022-10-18T19:41:37.926565Z",
     "iopub.status.idle": "2022-10-18T19:41:38.959567Z",
     "shell.execute_reply": "2022-10-18T19:41:38.956830Z"
    },
    "papermill": {
     "duration": 1.04177,
     "end_time": "2022-10-18T19:41:38.962654",
     "exception": false,
     "start_time": "2022-10-18T19:41:37.920884",
     "status": "completed"
    },
    "tags": []
   },
   "outputs": [
    {
     "name": "stdout",
     "output_type": "stream",
     "text": [
      "/kaggle/input/tsf-datasets/student_scores.csv\n",
      "/kaggle/input/tsf-datasets/matches.csv\n",
      "/kaggle/input/tsf-datasets/deliveries.csv\n",
      "/kaggle/input/tsf-datasets/globalterrorismdb_0718dist.csv\n",
      "/kaggle/input/tsf-datasets/india-news-headlines.csv\n",
      "/kaggle/input/tsf-datasets/SampleSuperstore.csv\n",
      "/kaggle/input/tsf-datasets/Iris.csv\n"
     ]
    }
   ],
   "source": [
    "# This Python 3 environment comes with many helpful analytics libraries installed\n",
    "# It is defined by the kaggle/python Docker image: https://github.com/kaggle/docker-python\n",
    "# For example, here's several helpful packages to load\n",
    "\n",
    "import numpy as np # linear algebra\n",
    "import pandas as pd # data processing, CSV file I/O (e.g. pd.read_csv)\n",
    "import matplotlib.pyplot as plt\n",
    "import warnings\n",
    "warnings.filterwarnings('ignore')\n",
    "\n",
    "from sklearn.model_selection import train_test_split\n",
    "from sklearn.linear_model import LinearRegression\n",
    "\n",
    "# Input data files are available in the read-only \"../input/\" directory\n",
    "# For example, running this (by clicking run or pressing Shift+Enter) will list all files under the input directory\n",
    "\n",
    "import os\n",
    "for dirname, _, filenames in os.walk('/kaggle/input'):\n",
    "    for filename in filenames:\n",
    "        print(os.path.join(dirname, filename))\n",
    "\n",
    "# You can write up to 20GB to the current directory (/kaggle/working/) that gets preserved as output when you create a version using \"Save & Run All\" \n",
    "# You can also write temporary files to /kaggle/temp/, but they won't be saved outside of the current session"
   ]
  },
  {
   "cell_type": "code",
   "execution_count": 2,
   "id": "1c688468",
   "metadata": {
    "execution": {
     "iopub.execute_input": "2022-10-18T19:41:38.972763Z",
     "iopub.status.busy": "2022-10-18T19:41:38.972383Z",
     "iopub.status.idle": "2022-10-18T19:41:39.003253Z",
     "shell.execute_reply": "2022-10-18T19:41:39.002052Z"
    },
    "papermill": {
     "duration": 0.03868,
     "end_time": "2022-10-18T19:41:39.005784",
     "exception": false,
     "start_time": "2022-10-18T19:41:38.967104",
     "status": "completed"
    },
    "tags": []
   },
   "outputs": [
    {
     "data": {
      "text/html": [
       "<div>\n",
       "<style scoped>\n",
       "    .dataframe tbody tr th:only-of-type {\n",
       "        vertical-align: middle;\n",
       "    }\n",
       "\n",
       "    .dataframe tbody tr th {\n",
       "        vertical-align: top;\n",
       "    }\n",
       "\n",
       "    .dataframe thead th {\n",
       "        text-align: right;\n",
       "    }\n",
       "</style>\n",
       "<table border=\"1\" class=\"dataframe\">\n",
       "  <thead>\n",
       "    <tr style=\"text-align: right;\">\n",
       "      <th></th>\n",
       "      <th>Hours</th>\n",
       "      <th>Scores</th>\n",
       "    </tr>\n",
       "  </thead>\n",
       "  <tbody>\n",
       "    <tr>\n",
       "      <th>0</th>\n",
       "      <td>2.5</td>\n",
       "      <td>21</td>\n",
       "    </tr>\n",
       "    <tr>\n",
       "      <th>1</th>\n",
       "      <td>5.1</td>\n",
       "      <td>47</td>\n",
       "    </tr>\n",
       "    <tr>\n",
       "      <th>2</th>\n",
       "      <td>3.2</td>\n",
       "      <td>27</td>\n",
       "    </tr>\n",
       "    <tr>\n",
       "      <th>3</th>\n",
       "      <td>8.5</td>\n",
       "      <td>75</td>\n",
       "    </tr>\n",
       "    <tr>\n",
       "      <th>4</th>\n",
       "      <td>3.5</td>\n",
       "      <td>30</td>\n",
       "    </tr>\n",
       "    <tr>\n",
       "      <th>5</th>\n",
       "      <td>1.5</td>\n",
       "      <td>20</td>\n",
       "    </tr>\n",
       "    <tr>\n",
       "      <th>6</th>\n",
       "      <td>9.2</td>\n",
       "      <td>88</td>\n",
       "    </tr>\n",
       "    <tr>\n",
       "      <th>7</th>\n",
       "      <td>5.5</td>\n",
       "      <td>60</td>\n",
       "    </tr>\n",
       "    <tr>\n",
       "      <th>8</th>\n",
       "      <td>8.3</td>\n",
       "      <td>81</td>\n",
       "    </tr>\n",
       "    <tr>\n",
       "      <th>9</th>\n",
       "      <td>2.7</td>\n",
       "      <td>25</td>\n",
       "    </tr>\n",
       "    <tr>\n",
       "      <th>10</th>\n",
       "      <td>7.7</td>\n",
       "      <td>85</td>\n",
       "    </tr>\n",
       "    <tr>\n",
       "      <th>11</th>\n",
       "      <td>5.9</td>\n",
       "      <td>62</td>\n",
       "    </tr>\n",
       "    <tr>\n",
       "      <th>12</th>\n",
       "      <td>4.5</td>\n",
       "      <td>41</td>\n",
       "    </tr>\n",
       "    <tr>\n",
       "      <th>13</th>\n",
       "      <td>3.3</td>\n",
       "      <td>42</td>\n",
       "    </tr>\n",
       "    <tr>\n",
       "      <th>14</th>\n",
       "      <td>1.1</td>\n",
       "      <td>17</td>\n",
       "    </tr>\n",
       "    <tr>\n",
       "      <th>15</th>\n",
       "      <td>8.9</td>\n",
       "      <td>95</td>\n",
       "    </tr>\n",
       "    <tr>\n",
       "      <th>16</th>\n",
       "      <td>2.5</td>\n",
       "      <td>30</td>\n",
       "    </tr>\n",
       "    <tr>\n",
       "      <th>17</th>\n",
       "      <td>1.9</td>\n",
       "      <td>24</td>\n",
       "    </tr>\n",
       "    <tr>\n",
       "      <th>18</th>\n",
       "      <td>6.1</td>\n",
       "      <td>67</td>\n",
       "    </tr>\n",
       "    <tr>\n",
       "      <th>19</th>\n",
       "      <td>7.4</td>\n",
       "      <td>69</td>\n",
       "    </tr>\n",
       "    <tr>\n",
       "      <th>20</th>\n",
       "      <td>2.7</td>\n",
       "      <td>30</td>\n",
       "    </tr>\n",
       "    <tr>\n",
       "      <th>21</th>\n",
       "      <td>4.8</td>\n",
       "      <td>54</td>\n",
       "    </tr>\n",
       "    <tr>\n",
       "      <th>22</th>\n",
       "      <td>3.8</td>\n",
       "      <td>35</td>\n",
       "    </tr>\n",
       "    <tr>\n",
       "      <th>23</th>\n",
       "      <td>6.9</td>\n",
       "      <td>76</td>\n",
       "    </tr>\n",
       "    <tr>\n",
       "      <th>24</th>\n",
       "      <td>7.8</td>\n",
       "      <td>86</td>\n",
       "    </tr>\n",
       "  </tbody>\n",
       "</table>\n",
       "</div>"
      ],
      "text/plain": [
       "    Hours  Scores\n",
       "0     2.5      21\n",
       "1     5.1      47\n",
       "2     3.2      27\n",
       "3     8.5      75\n",
       "4     3.5      30\n",
       "5     1.5      20\n",
       "6     9.2      88\n",
       "7     5.5      60\n",
       "8     8.3      81\n",
       "9     2.7      25\n",
       "10    7.7      85\n",
       "11    5.9      62\n",
       "12    4.5      41\n",
       "13    3.3      42\n",
       "14    1.1      17\n",
       "15    8.9      95\n",
       "16    2.5      30\n",
       "17    1.9      24\n",
       "18    6.1      67\n",
       "19    7.4      69\n",
       "20    2.7      30\n",
       "21    4.8      54\n",
       "22    3.8      35\n",
       "23    6.9      76\n",
       "24    7.8      86"
      ]
     },
     "execution_count": 2,
     "metadata": {},
     "output_type": "execute_result"
    }
   ],
   "source": [
    "## import data\n",
    "\n",
    "data = pd.read_csv ('../input/tsf-datasets/student_scores.csv')\n",
    "data"
   ]
  },
  {
   "cell_type": "code",
   "execution_count": 3,
   "id": "30051994",
   "metadata": {
    "execution": {
     "iopub.execute_input": "2022-10-18T19:41:39.017325Z",
     "iopub.status.busy": "2022-10-18T19:41:39.016949Z",
     "iopub.status.idle": "2022-10-18T19:41:39.045462Z",
     "shell.execute_reply": "2022-10-18T19:41:39.044273Z"
    },
    "papermill": {
     "duration": 0.036686,
     "end_time": "2022-10-18T19:41:39.047775",
     "exception": false,
     "start_time": "2022-10-18T19:41:39.011089",
     "status": "completed"
    },
    "tags": []
   },
   "outputs": [
    {
     "data": {
      "text/html": [
       "<div>\n",
       "<style scoped>\n",
       "    .dataframe tbody tr th:only-of-type {\n",
       "        vertical-align: middle;\n",
       "    }\n",
       "\n",
       "    .dataframe tbody tr th {\n",
       "        vertical-align: top;\n",
       "    }\n",
       "\n",
       "    .dataframe thead th {\n",
       "        text-align: right;\n",
       "    }\n",
       "</style>\n",
       "<table border=\"1\" class=\"dataframe\">\n",
       "  <thead>\n",
       "    <tr style=\"text-align: right;\">\n",
       "      <th></th>\n",
       "      <th>Hours</th>\n",
       "      <th>Scores</th>\n",
       "    </tr>\n",
       "  </thead>\n",
       "  <tbody>\n",
       "    <tr>\n",
       "      <th>count</th>\n",
       "      <td>25.0</td>\n",
       "      <td>25.0</td>\n",
       "    </tr>\n",
       "    <tr>\n",
       "      <th>mean</th>\n",
       "      <td>5.0</td>\n",
       "      <td>51.0</td>\n",
       "    </tr>\n",
       "    <tr>\n",
       "      <th>std</th>\n",
       "      <td>3.0</td>\n",
       "      <td>25.0</td>\n",
       "    </tr>\n",
       "    <tr>\n",
       "      <th>min</th>\n",
       "      <td>1.0</td>\n",
       "      <td>17.0</td>\n",
       "    </tr>\n",
       "    <tr>\n",
       "      <th>25%</th>\n",
       "      <td>3.0</td>\n",
       "      <td>30.0</td>\n",
       "    </tr>\n",
       "    <tr>\n",
       "      <th>50%</th>\n",
       "      <td>5.0</td>\n",
       "      <td>47.0</td>\n",
       "    </tr>\n",
       "    <tr>\n",
       "      <th>75%</th>\n",
       "      <td>7.0</td>\n",
       "      <td>75.0</td>\n",
       "    </tr>\n",
       "    <tr>\n",
       "      <th>max</th>\n",
       "      <td>9.0</td>\n",
       "      <td>95.0</td>\n",
       "    </tr>\n",
       "  </tbody>\n",
       "</table>\n",
       "</div>"
      ],
      "text/plain": [
       "       Hours  Scores\n",
       "count   25.0    25.0\n",
       "mean     5.0    51.0\n",
       "std      3.0    25.0\n",
       "min      1.0    17.0\n",
       "25%      3.0    30.0\n",
       "50%      5.0    47.0\n",
       "75%      7.0    75.0\n",
       "max      9.0    95.0"
      ]
     },
     "execution_count": 3,
     "metadata": {},
     "output_type": "execute_result"
    }
   ],
   "source": [
    "# describe data\n",
    "\n",
    "data.shape\n",
    "data.describe().round()"
   ]
  },
  {
   "cell_type": "code",
   "execution_count": 4,
   "id": "77153f0b",
   "metadata": {
    "execution": {
     "iopub.execute_input": "2022-10-18T19:41:39.058907Z",
     "iopub.status.busy": "2022-10-18T19:41:39.058501Z",
     "iopub.status.idle": "2022-10-18T19:41:39.066772Z",
     "shell.execute_reply": "2022-10-18T19:41:39.065648Z"
    },
    "papermill": {
     "duration": 0.016347,
     "end_time": "2022-10-18T19:41:39.068942",
     "exception": false,
     "start_time": "2022-10-18T19:41:39.052595",
     "status": "completed"
    },
    "tags": []
   },
   "outputs": [
    {
     "data": {
      "text/plain": [
       "Hours     0\n",
       "Scores    0\n",
       "dtype: int64"
      ]
     },
     "execution_count": 4,
     "metadata": {},
     "output_type": "execute_result"
    }
   ],
   "source": [
    "#cols.\n",
    "data.columns\n",
    "data.isnull().sum()"
   ]
  },
  {
   "cell_type": "code",
   "execution_count": 5,
   "id": "05b9fc27",
   "metadata": {
    "execution": {
     "iopub.execute_input": "2022-10-18T19:41:39.079815Z",
     "iopub.status.busy": "2022-10-18T19:41:39.079450Z",
     "iopub.status.idle": "2022-10-18T19:41:39.094632Z",
     "shell.execute_reply": "2022-10-18T19:41:39.093511Z"
    },
    "papermill": {
     "duration": 0.023405,
     "end_time": "2022-10-18T19:41:39.097162",
     "exception": false,
     "start_time": "2022-10-18T19:41:39.073757",
     "status": "completed"
    },
    "tags": []
   },
   "outputs": [
    {
     "name": "stdout",
     "output_type": "stream",
     "text": [
      "<class 'pandas.core.frame.DataFrame'>\n",
      "RangeIndex: 25 entries, 0 to 24\n",
      "Data columns (total 2 columns):\n",
      " #   Column  Non-Null Count  Dtype  \n",
      "---  ------  --------------  -----  \n",
      " 0   Hours   25 non-null     float64\n",
      " 1   Scores  25 non-null     int64  \n",
      "dtypes: float64(1), int64(1)\n",
      "memory usage: 528.0 bytes\n"
     ]
    }
   ],
   "source": [
    "# more information\n",
    "data.info()"
   ]
  },
  {
   "cell_type": "code",
   "execution_count": 6,
   "id": "fec3fe3c",
   "metadata": {
    "execution": {
     "iopub.execute_input": "2022-10-18T19:41:39.108498Z",
     "iopub.status.busy": "2022-10-18T19:41:39.108149Z",
     "iopub.status.idle": "2022-10-18T19:41:39.118114Z",
     "shell.execute_reply": "2022-10-18T19:41:39.117009Z"
    },
    "papermill": {
     "duration": 0.018247,
     "end_time": "2022-10-18T19:41:39.120437",
     "exception": false,
     "start_time": "2022-10-18T19:41:39.102190",
     "status": "completed"
    },
    "tags": []
   },
   "outputs": [
    {
     "data": {
      "text/plain": [
       "0"
      ]
     },
     "execution_count": 6,
     "metadata": {},
     "output_type": "execute_result"
    }
   ],
   "source": [
    "# search for dublicated\n",
    "data.duplicated().sum()"
   ]
  },
  {
   "cell_type": "code",
   "execution_count": 7,
   "id": "c8251e29",
   "metadata": {
    "execution": {
     "iopub.execute_input": "2022-10-18T19:41:39.131902Z",
     "iopub.status.busy": "2022-10-18T19:41:39.131522Z",
     "iopub.status.idle": "2022-10-18T19:41:39.457988Z",
     "shell.execute_reply": "2022-10-18T19:41:39.457027Z"
    },
    "papermill": {
     "duration": 0.335019,
     "end_time": "2022-10-18T19:41:39.460499",
     "exception": false,
     "start_time": "2022-10-18T19:41:39.125480",
     "status": "completed"
    },
    "tags": []
   },
   "outputs": [
    {
     "data": {
      "text/plain": [
       "<function matplotlib.pyplot.show(close=None, block=None)>"
      ]
     },
     "execution_count": 7,
     "metadata": {},
     "output_type": "execute_result"
    },
    {
     "data": {
      "image/png": "[encoded data removed]",
      "text/plain": [
       "<Figure size 432x288 with 1 Axes>"
      ]
     },
     "metadata": {
      "needs_background": "light"
     },
     "output_type": "display_data"
    }
   ],
   "source": [
    "# plotting data\n",
    "\n",
    "#x = data['Hours']\n",
    "#y = ['Scores']\n",
    "#x, y : array_like, shape (n, )\n",
    "#plt.scatter(x=x,y=y)\n",
    "data.plot(x='Hours' , y ='Scores', style='o')\n",
    "plt.xlabel('Hours')\n",
    "plt.ylabel('percentage score')\n",
    "plt.title('percentage of students based on study hours')\n",
    "plt.show"
   ]
  },
  {
   "cell_type": "code",
   "execution_count": 8,
   "id": "a8427dfa",
   "metadata": {
    "execution": {
     "iopub.execute_input": "2022-10-18T19:41:39.475065Z",
     "iopub.status.busy": "2022-10-18T19:41:39.473871Z",
     "iopub.status.idle": "2022-10-18T19:41:39.495548Z",
     "shell.execute_reply": "2022-10-18T19:41:39.494608Z"
    },
    "papermill": {
     "duration": 0.032156,
     "end_time": "2022-10-18T19:41:39.498586",
     "exception": false,
     "start_time": "2022-10-18T19:41:39.466430",
     "status": "completed"
    },
    "tags": []
   },
   "outputs": [
    {
     "name": "stdout",
     "output_type": "stream",
     "text": [
      "complete training\n"
     ]
    }
   ],
   "source": [
    "#preparing data & training\n",
    "\n",
    "x = data.iloc[: , :-1].values\n",
    "y = data.iloc[: , 1].values\n",
    "\n",
    "from sklearn.model_selection import train_test_split\n",
    "\n",
    "x_train , x_test , y_train , y_test = train_test_split(x,y,test_size = 0.2 ,random_state=0)\n",
    "\n",
    "from sklearn.linear_model import LinearRegression\n",
    "regressor = LinearRegression()\n",
    "regressor.fit(x_train,y_train)\n",
    "\n",
    "print(\"complete training\")"
   ]
  },
  {
   "cell_type": "code",
   "execution_count": 9,
   "id": "e7b35842",
   "metadata": {
    "execution": {
     "iopub.execute_input": "2022-10-18T19:41:39.512358Z",
     "iopub.status.busy": "2022-10-18T19:41:39.511909Z",
     "iopub.status.idle": "2022-10-18T19:41:39.714799Z",
     "shell.execute_reply": "2022-10-18T19:41:39.713647Z"
    },
    "papermill": {
     "duration": 0.211906,
     "end_time": "2022-10-18T19:41:39.717266",
     "exception": false,
     "start_time": "2022-10-18T19:41:39.505360",
     "status": "completed"
    },
    "tags": []
   },
   "outputs": [
    {
     "data": {
      "image/png": "[encoded data removed]",
      "text/plain": [
       "<Figure size 432x288 with 1 Axes>"
      ]
     },
     "metadata": {
      "needs_background": "light"
     },
     "output_type": "display_data"
    }
   ],
   "source": [
    "#regression line\n",
    "\n",
    "line = regressor.coef_*x+regressor.intercept_\n",
    "\n",
    "plt.scatter(x,y)\n",
    "plt.plot(x,line)\n",
    "plt.show()"
   ]
  },
  {
   "cell_type": "code",
   "execution_count": 10,
   "id": "e01e3025",
   "metadata": {
    "execution": {
     "iopub.execute_input": "2022-10-18T19:41:39.730123Z",
     "iopub.status.busy": "2022-10-18T19:41:39.729741Z",
     "iopub.status.idle": "2022-10-18T19:41:39.735773Z",
     "shell.execute_reply": "2022-10-18T19:41:39.734651Z"
    },
    "papermill": {
     "duration": 0.015238,
     "end_time": "2022-10-18T19:41:39.738371",
     "exception": false,
     "start_time": "2022-10-18T19:41:39.723133",
     "status": "completed"
    },
    "tags": []
   },
   "outputs": [
    {
     "name": "stdout",
     "output_type": "stream",
     "text": [
      "[[1.5]\n",
      " [3.2]\n",
      " [7.4]\n",
      " [2.5]\n",
      " [5.9]]\n"
     ]
    }
   ],
   "source": [
    "#predictions (testing data)\n",
    "\n",
    "print(x_test)\n",
    "y_pred = regressor.predict(x_test)"
   ]
  },
  {
   "cell_type": "code",
   "execution_count": 11,
   "id": "a18e5ffd",
   "metadata": {
    "execution": {
     "iopub.execute_input": "2022-10-18T19:41:39.753315Z",
     "iopub.status.busy": "2022-10-18T19:41:39.752746Z",
     "iopub.status.idle": "2022-10-18T19:41:39.764358Z",
     "shell.execute_reply": "2022-10-18T19:41:39.763513Z"
    },
    "papermill": {
     "duration": 0.023647,
     "end_time": "2022-10-18T19:41:39.767701",
     "exception": false,
     "start_time": "2022-10-18T19:41:39.744054",
     "status": "completed"
    },
    "tags": []
   },
   "outputs": [
    {
     "data": {
      "text/html": [
       "<div>\n",
       "<style scoped>\n",
       "    .dataframe tbody tr th:only-of-type {\n",
       "        vertical-align: middle;\n",
       "    }\n",
       "\n",
       "    .dataframe tbody tr th {\n",
       "        vertical-align: top;\n",
       "    }\n",
       "\n",
       "    .dataframe thead th {\n",
       "        text-align: right;\n",
       "    }\n",
       "</style>\n",
       "<table border=\"1\" class=\"dataframe\">\n",
       "  <thead>\n",
       "    <tr style=\"text-align: right;\">\n",
       "      <th></th>\n",
       "      <th>Actual</th>\n",
       "      <th>Predicted</th>\n",
       "    </tr>\n",
       "  </thead>\n",
       "  <tbody>\n",
       "    <tr>\n",
       "      <th>0</th>\n",
       "      <td>20</td>\n",
       "      <td>16.884145</td>\n",
       "    </tr>\n",
       "    <tr>\n",
       "      <th>1</th>\n",
       "      <td>27</td>\n",
       "      <td>33.732261</td>\n",
       "    </tr>\n",
       "    <tr>\n",
       "      <th>2</th>\n",
       "      <td>69</td>\n",
       "      <td>75.357018</td>\n",
       "    </tr>\n",
       "    <tr>\n",
       "      <th>3</th>\n",
       "      <td>30</td>\n",
       "      <td>26.794801</td>\n",
       "    </tr>\n",
       "    <tr>\n",
       "      <th>4</th>\n",
       "      <td>62</td>\n",
       "      <td>60.491033</td>\n",
       "    </tr>\n",
       "  </tbody>\n",
       "</table>\n",
       "</div>"
      ],
      "text/plain": [
       "   Actual  Predicted\n",
       "0      20  16.884145\n",
       "1      27  33.732261\n",
       "2      69  75.357018\n",
       "3      30  26.794801\n",
       "4      62  60.491033"
      ]
     },
     "execution_count": 11,
     "metadata": {},
     "output_type": "execute_result"
    }
   ],
   "source": [
    "#comparing\n",
    "\n",
    "df = pd.DataFrame({'Actual': y_test , 'Predicted' : y_pred})\n",
    "df"
   ]
  },
  {
   "cell_type": "code",
   "execution_count": 12,
   "id": "3322d5c0",
   "metadata": {
    "execution": {
     "iopub.execute_input": "2022-10-18T19:41:39.783628Z",
     "iopub.status.busy": "2022-10-18T19:41:39.782612Z",
     "iopub.status.idle": "2022-10-18T19:41:39.787993Z",
     "shell.execute_reply": "2022-10-18T19:41:39.787005Z"
    },
    "papermill": {
     "duration": 0.016383,
     "end_time": "2022-10-18T19:41:39.790203",
     "exception": false,
     "start_time": "2022-10-18T19:41:39.773820",
     "status": "completed"
    },
    "tags": []
   },
   "outputs": [],
   "source": [
    "#test with hours = 9.25\n",
    "\n",
    "#hours = 9.25\n",
    "#hours_pred = regressor.predict(hours)\n",
    "\n",
    "#print(\"No. of hours= {} \".format(hours))\n",
    "#print(\"prediction = {}\".format(hours_pred[0]))"
   ]
  },
  {
   "cell_type": "code",
   "execution_count": 13,
   "id": "6ac945ee",
   "metadata": {
    "execution": {
     "iopub.execute_input": "2022-10-18T19:41:39.804357Z",
     "iopub.status.busy": "2022-10-18T19:41:39.803458Z",
     "iopub.status.idle": "2022-10-18T19:41:39.811363Z",
     "shell.execute_reply": "2022-10-18T19:41:39.809715Z"
    },
    "papermill": {
     "duration": 0.017744,
     "end_time": "2022-10-18T19:41:39.813930",
     "exception": false,
     "start_time": "2022-10-18T19:41:39.796186",
     "status": "completed"
    },
    "tags": []
   },
   "outputs": [
    {
     "name": "stdout",
     "output_type": "stream",
     "text": [
      "No. of hours= [[9.25]] \n",
      "prediction = 93.69173248737539\n"
     ]
    }
   ],
   "source": [
    "#test with hours = 9.25\n",
    "\n",
    "hours = [[9.25]]\n",
    "test_pred= regressor.predict(hours)\n",
    "print(\"No. of hours= {} \".format(hours))\n",
    "print(\"prediction = {}\".format(test_pred[0]))\n"
   ]
  },
  {
   "cell_type": "code",
   "execution_count": 14,
   "id": "31d52cfe",
   "metadata": {
    "execution": {
     "iopub.execute_input": "2022-10-18T19:41:39.827978Z",
     "iopub.status.busy": "2022-10-18T19:41:39.827591Z",
     "iopub.status.idle": "2022-10-18T19:41:39.940695Z",
     "shell.execute_reply": "2022-10-18T19:41:39.939138Z"
    },
    "papermill": {
     "duration": 0.122856,
     "end_time": "2022-10-18T19:41:39.943088",
     "exception": true,
     "start_time": "2022-10-18T19:41:39.820232",
     "status": "failed"
    },
    "tags": []
   },
   "outputs": [
    {
     "name": "stdout",
     "output_type": "stream",
     "text": [
      "mean error:\n"
     ]
    },
    {
     "ename": "NameError",
     "evalue": "name 'metrics' is not defined",
     "output_type": "error",
     "traceback": [
      "\u001b[0;31m---------------------------------------------------------------------------\u001b[0m",
      "\u001b[0;31mNameError\u001b[0m                                 Traceback (most recent call last)",
      "\u001b[0;32m/tmp/ipykernel_19/2290282295.py\u001b[0m in \u001b[0;36m<module>\u001b[0;34m\u001b[0m\n\u001b[0;32m----> 1\u001b[0;31m \u001b[0mprint\u001b[0m\u001b[0;34m(\u001b[0m\u001b[0;34m'mean error:'\u001b[0m\u001b[0;34m)\u001b[0m\u001b[0;34m,\u001b[0m \u001b[0mmetrics\u001b[0m\u001b[0;34m.\u001b[0m\u001b[0mmean_absolute_error\u001b[0m\u001b[0;34m(\u001b[0m\u001b[0my_test\u001b[0m\u001b[0;34m,\u001b[0m\u001b[0mpred\u001b[0m\u001b[0;34m)\u001b[0m\u001b[0;34m\u001b[0m\u001b[0;34m\u001b[0m\u001b[0m\n\u001b[0m",
      "\u001b[0;31mNameError\u001b[0m: name 'metrics' is not defined"
     ]
    }
   ],
   "source": [
    "print('mean error:'), metrics.mean_absolute_error(y_test,pred)"
   ]
  }
 ],
 "metadata": {
  "kernelspec": {
   "display_name": "Python 3",
   "language": "python",
   "name": "python3"
  },
  "language_info": {
   "codemirror_mode": {
    "name": "ipython",
    "version": 3
   },
   "file_extension": ".py",
   "mimetype": "text/x-python",
   "name": "python",
   "nbconvert_exporter": "python",
   "pygments_lexer": "ipython3",
   "version": "3.7.12"
  },
  "papermill": {
   "default_parameters": {},
   "duration": 11.403916,
   "end_time": "2022-10-18T19:41:40.671918",
   "environment_variables": {},
   "exception": true,
   "input_path": "__notebook__.ipynb",
   "output_path": "__notebook__.ipynb",
   "parameters": {},
   "start_time": "2022-10-18T19:41:29.268002",
   "version": "2.3.4"
  }
 },
 "nbformat": 4,
 "nbformat_minor": 5
}
